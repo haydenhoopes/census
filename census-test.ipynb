{
 "cells": [
  {
   "cell_type": "code",
   "execution_count": 1,
   "id": "12bbd774-cc40-430f-87e4-7c572e6e36dd",
   "metadata": {},
   "outputs": [],
   "source": [
    "import requests\n",
    "import json\n",
    "from census import Census\n",
    "import pandas as pd\n",
    "token = \"9c68cd4de87f344ff1fc7264647916934ab66963\"\n",
    "\n",
    "pd.options.display.max_colwidth = None"
   ]
  },
  {
   "cell_type": "code",
   "execution_count": 2,
   "id": "e774aefb-2ff5-47c1-8ebf-509379d0c725",
   "metadata": {
    "tags": []
   },
   "outputs": [],
   "source": [
    "#res = requests.get(f\"https://api.census.gov/data/2020/acs/acs5/pums?get=SEX,PWGTP,MAR&for=state:*&SCHL=24&key={token}\").text"
   ]
  },
  {
   "cell_type": "code",
   "execution_count": 3,
   "id": "3d252cd1-0287-4a80-9627-44e0fac83674",
   "metadata": {
    "tags": []
   },
   "outputs": [],
   "source": [
    "c = Census(token)"
   ]
  },
  {
   "cell_type": "code",
   "execution_count": 4,
   "id": "011876d9-9bb6-4c26-a101-168a83acd845",
   "metadata": {},
   "outputs": [],
   "source": [
    "c.set_year(2020)\n",
    "\n",
    "c.set_api('acs')\n",
    "\n",
    "c.set_database('acs5')\n",
    "\n",
    "c.set_table('cprofile')"
   ]
  },
  {
   "cell_type": "code",
   "execution_count": 5,
   "id": "b8360e01-13c6-4c3a-be89-eeb2df18b576",
   "metadata": {},
   "outputs": [
    {
     "name": "stdout",
     "output_type": "stream",
     "text": [
      "\u001b[38;5;3m⚠ New concepts set. Variables cleared.\u001b[0m\n"
     ]
    }
   ],
   "source": [
    "c.set_concepts('COMPARATIVE DEMOGRAPHIC ESTIMATES')"
   ]
  },
  {
   "cell_type": "code",
   "execution_count": 6,
   "id": "06d6fd4a-0ab8-44ef-bec4-dd0dcd235dc4",
   "metadata": {},
   "outputs": [],
   "source": [
    "a = c.pull_variables(as_dataframe=True)"
   ]
  },
  {
   "cell_type": "code",
   "execution_count": 7,
   "id": "cb863ad3-74bf-4e0d-8e37-6f2484abf2b1",
   "metadata": {},
   "outputs": [],
   "source": [
    "c.add_variable('CP05_2020_070E')"
   ]
  },
  {
   "cell_type": "code",
   "execution_count": 8,
   "id": "12de10ed-9fcb-4912-bc0c-fdd8ab3065dd",
   "metadata": {},
   "outputs": [
    {
     "name": "stdout",
     "output_type": "stream",
     "text": [
      "\u001b[38;5;3m⚠ Using * to get all of geography state. Use the\n",
      "`set_geography_values()` method to specify.\u001b[0m\n"
     ]
    }
   ],
   "source": [
    "c.set_geography('state')"
   ]
  },
  {
   "cell_type": "code",
   "execution_count": 9,
   "id": "33581e2e-e4aa-457f-90c4-7acefba8214e",
   "metadata": {},
   "outputs": [
    {
     "name": "stdout",
     "output_type": "stream",
     "text": [
      "https://api.census.gov/data/2020/acs/acs5/cprofile?get=CP05_2020_070E&for=state:*\n",
      "42\n",
      "06\n",
      "54\n",
      "49\n",
      "36\n",
      "11\n",
      "02\n",
      "12\n",
      "45\n",
      "38\n",
      "23\n",
      "13\n",
      "01\n",
      "33\n",
      "41\n",
      "56\n",
      "04\n",
      "22\n",
      "18\n",
      "16\n",
      "09\n",
      "15\n",
      "17\n",
      "25\n",
      "48\n",
      "30\n",
      "31\n",
      "39\n",
      "08\n",
      "34\n",
      "24\n",
      "51\n",
      "50\n",
      "37\n",
      "05\n",
      "53\n",
      "20\n",
      "40\n",
      "55\n",
      "28\n",
      "29\n",
      "26\n",
      "44\n",
      "27\n",
      "19\n",
      "35\n",
      "32\n",
      "10\n",
      "72\n",
      "21\n",
      "46\n",
      "47\n"
     ]
    },
    {
     "data": {
      "text/plain": [
       "1             Pennsylvania\n",
       "2               California\n",
       "3            West Virginia\n",
       "4                     Utah\n",
       "5                 New York\n",
       "6     District of Columbia\n",
       "7                   Alaska\n",
       "8                  Florida\n",
       "9           South Carolina\n",
       "10            North Dakota\n",
       "11                   Maine\n",
       "12                 Georgia\n",
       "13                 Alabama\n",
       "14           New Hampshire\n",
       "15                  Oregon\n",
       "16                 Wyoming\n",
       "17                 Arizona\n",
       "18               Louisiana\n",
       "19                 Indiana\n",
       "20                   Idaho\n",
       "21             Connecticut\n",
       "22                  Hawaii\n",
       "23                Illinois\n",
       "24           Massachusetts\n",
       "25                   Texas\n",
       "26                 Montana\n",
       "27                Nebraska\n",
       "28                    Ohio\n",
       "29                Colorado\n",
       "30              New Jersey\n",
       "31                Maryland\n",
       "32                Virginia\n",
       "33                 Vermont\n",
       "34          North Carolina\n",
       "35                Arkansas\n",
       "36              Washington\n",
       "37                  Kansas\n",
       "38                Oklahoma\n",
       "39               Wisconsin\n",
       "40             Mississippi\n",
       "41                Missouri\n",
       "42                Michigan\n",
       "43            Rhode Island\n",
       "44               Minnesota\n",
       "45                    Iowa\n",
       "46              New Mexico\n",
       "47                  Nevada\n",
       "48                Delaware\n",
       "49             Puerto Rico\n",
       "50                Kentucky\n",
       "51            South Dakota\n",
       "52               Tennessee\n",
       "Name: state, dtype: object"
      ]
     },
     "execution_count": 9,
     "metadata": {},
     "output_type": "execute_result"
    }
   ],
   "source": [
    "c.pull_data(as_dataframe=True, labelled=True)"
   ]
  },
  {
   "cell_type": "code",
   "execution_count": null,
   "id": "16b59051-a290-4fcc-be4c-569ce7ab3015",
   "metadata": {},
   "outputs": [],
   "source": []
  }
 ],
 "metadata": {
  "kernelspec": {
   "display_name": "Python 3 (ipykernel)",
   "language": "python",
   "name": "python3"
  },
  "language_info": {
   "codemirror_mode": {
    "name": "ipython",
    "version": 3
   },
   "file_extension": ".py",
   "mimetype": "text/x-python",
   "name": "python",
   "nbconvert_exporter": "python",
   "pygments_lexer": "ipython3",
   "version": "3.10.6"
  }
 },
 "nbformat": 4,
 "nbformat_minor": 5
}
