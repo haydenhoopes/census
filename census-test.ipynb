{
 "cells": [
  {
   "cell_type": "code",
   "execution_count": 1,
   "id": "12bbd774-cc40-430f-87e4-7c572e6e36dd",
   "metadata": {},
   "outputs": [],
   "source": [
    "import requests\n",
    "import json\n",
    "from census import Census\n",
    "import pandas as pd\n",
    "token = \"9c68cd4de87f344ff1fc7264647916934ab66963\"\n",
    "\n",
    "pd.options.display.max_colwidth = None"
   ]
  },
  {
   "cell_type": "code",
   "execution_count": 2,
   "id": "e774aefb-2ff5-47c1-8ebf-509379d0c725",
   "metadata": {
    "tags": []
   },
   "outputs": [],
   "source": [
    "#res = requests.get(f\"https://api.census.gov/data/2020/acs/acs5/pums?get=SEX,PWGTP,MAR&for=state:*&SCHL=24&key={token}\").text"
   ]
  },
  {
   "cell_type": "code",
   "execution_count": 3,
   "id": "3d252cd1-0287-4a80-9627-44e0fac83674",
   "metadata": {
    "tags": []
   },
   "outputs": [],
   "source": [
    "c = Census(token)"
   ]
  },
  {
   "cell_type": "code",
   "execution_count": 4,
   "id": "011876d9-9bb6-4c26-a101-168a83acd845",
   "metadata": {},
   "outputs": [],
   "source": [
    "c.set_year(2020)\n",
    "\n",
    "c.set_api('acs')\n",
    "\n",
    "c.set_database('acs5')\n",
    "\n",
    "c.set_table('cprofile')"
   ]
  },
  {
   "cell_type": "code",
   "execution_count": 5,
   "id": "b8360e01-13c6-4c3a-be89-eeb2df18b576",
   "metadata": {},
   "outputs": [
    {
     "name": "stdout",
     "output_type": "stream",
     "text": [
      "\u001b[38;5;3m⚠ New concepts set. Variables cleared.\u001b[0m\n"
     ]
    }
   ],
   "source": [
    "c.set_concepts('COMPARATIVE DEMOGRAPHIC ESTIMATES')"
   ]
  },
  {
   "cell_type": "code",
   "execution_count": 6,
   "id": "06d6fd4a-0ab8-44ef-bec4-dd0dcd235dc4",
   "metadata": {},
   "outputs": [],
   "source": [
    "a = c.pull_variables(as_dataframe=True)"
   ]
  },
  {
   "cell_type": "code",
   "execution_count": 7,
   "id": "cb863ad3-74bf-4e0d-8e37-6f2484abf2b1",
   "metadata": {},
   "outputs": [],
   "source": [
    "c.add_variable('CP05_2020_070E')"
   ]
  },
  {
   "cell_type": "code",
   "execution_count": 8,
   "id": "12de10ed-9fcb-4912-bc0c-fdd8ab3065dd",
   "metadata": {},
   "outputs": [
    {
     "name": "stdout",
     "output_type": "stream",
     "text": [
      "\u001b[38;5;3m⚠ Using * to get all of geography state. Use the\n",
      "`set_geography_values()` method to specify.\u001b[0m\n"
     ]
    }
   ],
   "source": [
    "c.set_geography('state')"
   ]
  },
  {
   "cell_type": "code",
   "execution_count": 9,
   "id": "33581e2e-e4aa-457f-90c4-7acefba8214e",
   "metadata": {},
   "outputs": [
    {
     "name": "stdout",
     "output_type": "stream",
     "text": [
      "https://api.census.gov/data/2020/acs/acs5/cprofile?get=CP05_2020_070E&for=state:*\n"
     ]
    },
    {
     "data": {
      "text/plain": [
       "   2016-2020 Estimates!!HISPANIC OR LATINO AND RACE!!Total population  \\\n",
       "1                                                            12794885   \n",
       "2                                                            39346023   \n",
       "3                                                             1807426   \n",
       "4                                                             3151239   \n",
       "5                                                            19514849   \n",
       "6                                                              701974   \n",
       "7                                                              736990   \n",
       "8                                                            21216924   \n",
       "9                                                             5091517   \n",
       "10                                                             760394   \n",
       "11                                                            1340825   \n",
       "12                                                           10516579   \n",
       "13                                                            4893186   \n",
       "14                                                            1355244   \n",
       "15                                                            4176346   \n",
       "16                                                             581348   \n",
       "17                                                            7174064   \n",
       "18                                                            4664616   \n",
       "19                                                            6696893   \n",
       "20                                                            1754367   \n",
       "21                                                            3570549   \n",
       "22                                                            1420074   \n",
       "23                                                           12716164   \n",
       "24                                                            6873003   \n",
       "25                                                           28635442   \n",
       "26                                                            1061705   \n",
       "27                                                            1923826   \n",
       "28                                                           11675275   \n",
       "29                                                            5684926   \n",
       "30                                                            8885418   \n",
       "31                                                            6037624   \n",
       "32                                                            8509358   \n",
       "33                                                             624340   \n",
       "34                                                           10386227   \n",
       "35                                                            3011873   \n",
       "36                                                            7512465   \n",
       "37                                                            2912619   \n",
       "38                                                            3949342   \n",
       "39                                                            5806975   \n",
       "40                                                            2981835   \n",
       "41                                                            6124160   \n",
       "42                                                            9973907   \n",
       "43                                                            1057798   \n",
       "44                                                            5600166   \n",
       "45                                                            3150011   \n",
       "46                                                            2097021   \n",
       "47                                                            3030281   \n",
       "48                                                             967679   \n",
       "49                                                            3255642   \n",
       "50                                                            4461952   \n",
       "51                                                             879336   \n",
       "52                                                            6772268   \n",
       "\n",
       "                   state  \n",
       "1           Pennsylvania  \n",
       "2             California  \n",
       "3          West Virginia  \n",
       "4                   Utah  \n",
       "5               New York  \n",
       "6   District of Columbia  \n",
       "7                 Alaska  \n",
       "8                Florida  \n",
       "9         South Carolina  \n",
       "10          North Dakota  \n",
       "11                 Maine  \n",
       "12               Georgia  \n",
       "13               Alabama  \n",
       "14         New Hampshire  \n",
       "15                Oregon  \n",
       "16               Wyoming  \n",
       "17               Arizona  \n",
       "18             Louisiana  \n",
       "19               Indiana  \n",
       "20                 Idaho  \n",
       "21           Connecticut  \n",
       "22                Hawaii  \n",
       "23              Illinois  \n",
       "24         Massachusetts  \n",
       "25                 Texas  \n",
       "26               Montana  \n",
       "27              Nebraska  \n",
       "28                  Ohio  \n",
       "29              Colorado  \n",
       "30            New Jersey  \n",
       "31              Maryland  \n",
       "32              Virginia  \n",
       "33               Vermont  \n",
       "34        North Carolina  \n",
       "35              Arkansas  \n",
       "36            Washington  \n",
       "37                Kansas  \n",
       "38              Oklahoma  \n",
       "39             Wisconsin  \n",
       "40           Mississippi  \n",
       "41              Missouri  \n",
       "42              Michigan  \n",
       "43          Rhode Island  \n",
       "44             Minnesota  \n",
       "45                  Iowa  \n",
       "46            New Mexico  \n",
       "47                Nevada  \n",
       "48              Delaware  \n",
       "49           Puerto Rico  \n",
       "50              Kentucky  \n",
       "51          South Dakota  \n",
       "52             Tennessee  "
      ]
     },
     "execution_count": 9,
     "metadata": {},
     "output_type": "execute_result"
    }
   ],
   "source": [
    "c.pull_data(as_dataframe=True, labelled=True)"
   ]
  },
  {
   "cell_type": "code",
   "execution_count": null,
   "id": "16b59051-a290-4fcc-be4c-569ce7ab3015",
   "metadata": {},
   "outputs": [],
   "source": []
  }
 ],
 "metadata": {
  "kernelspec": {
   "display_name": "Python 3 (ipykernel)",
   "language": "python",
   "name": "python3"
  },
  "language_info": {
   "codemirror_mode": {
    "name": "ipython",
    "version": 3
   },
   "file_extension": ".py",
   "mimetype": "text/x-python",
   "name": "python",
   "nbconvert_exporter": "python",
   "pygments_lexer": "ipython3",
   "version": "3.10.6"
  }
 },
 "nbformat": 4,
 "nbformat_minor": 5
}
